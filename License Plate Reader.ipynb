{
 "cells": [
  {
   "cell_type": "code",
   "execution_count": 1,
   "metadata": {},
   "outputs": [],
   "source": [
    "import numpy as np\n",
    "import cv2\n",
    "import imutils\n",
    "import sys\n",
    "import pytesseract\n",
    "import pandas as pd\n",
    "import time"
   ]
  },
  {
   "cell_type": "code",
   "execution_count": 2,
   "metadata": {},
   "outputs": [],
   "source": [
    "# pip install pytesseract\n",
    "# https://github.com/madmaze/pytesseract\n",
    "# download from https://github.com/UB-Mannheim/tesseract/wiki and install\n",
    "pytesseract.pytesseract.tesseract_cmd = r\"C:\\Users\\abhinav.jhanwar\\AppData\\Local\\Tesseract-OCR\\tesseract.exe\""
   ]
  },
  {
   "cell_type": "code",
   "execution_count": 113,
   "metadata": {},
   "outputs": [
    {
     "data": {
      "text/plain": [
       "-1"
      ]
     },
     "execution_count": 113,
     "metadata": {},
     "output_type": "execute_result"
    }
   ],
   "source": [
    "image_path = 'test1.jpg'\n",
    "\n",
    "# read image\n",
    "image = cv2.imread(image_path)\n",
    "\n",
    "# resize image\n",
    "image = imutils.resize(image, width=500)\n",
    "\n",
    "# show original image\n",
    "cv2.imshow(\"Original Image\", image)\n",
    "cv2.waitKey(0)"
   ]
  },
  {
   "cell_type": "code",
   "execution_count": 114,
   "metadata": {},
   "outputs": [],
   "source": [
    "# 1: convert to grayscale\n",
    "gray = cv2.cvtColor(image, cv2.COLOR_BGR2GRAY)\n",
    "#cv2.imshow(\"1 - Grayscale Conversion\", gray)\n",
    "\n",
    "# 2: Apply Bilateral Filter\n",
    "gray = cv2.bilateralFilter(gray, 11, 20, 20)\n",
    "#cv2.imshow(\"2 - Bilateral Filter\", gray)\n",
    "\n",
    "# 3: Get Edges\n",
    "edged = cv2.Canny(gray, 170, 200)\n",
    "#cv2.imshow(\"3 - Canny Edges\", edged)\n",
    "\n",
    "cv2.waitKey(0)\n",
    "cv2.destroyAllWindows()\n",
    "\n",
    "# 4: Get all contours \n",
    "(cnts, _) = cv2.findContours(edged.copy(), cv2.RETR_LIST, cv2.CHAIN_APPROX_SIMPLE)\n",
    "# sort countours based on area\n",
    "cnts=sorted(cnts, key = cv2.contourArea, reverse = True)[:30]\n",
    "# get total number of number plates in the image\n",
    "NumberPlateCnt = None \n",
    "count = 0\n",
    "test_image = image.copy()\n",
    "samples = []\n",
    "for c in cnts:\n",
    "    peri = cv2.arcLength(c, True)\n",
    "    approx = cv2.approxPolyDP(c, 0.02 * peri, True)\n",
    "    if len(approx) == 4:  \n",
    "        NumberPlateCnt = approx\n",
    "        break\n",
    "        \n",
    "# 5: take thresh of image to separate text from background\n",
    "thresh = cv2.threshold(gray, 125, 255, cv2.THRESH_BINARY)[1]\n",
    "cv2.imshow(\"Thresh\", thresh)\n",
    "cv2.waitKey(0)\n",
    "\n",
    "# 6: get proper boundary box\n",
    "rect = cv2.minAreaRect(NumberPlateCnt)\n",
    "box = cv2.boxPoints(rect)\n",
    "box = np.int0(box)"
   ]
  },
  {
   "cell_type": "code",
   "execution_count": 115,
   "metadata": {},
   "outputs": [
    {
     "data": {
      "text/plain": [
       "-1"
      ]
     },
     "execution_count": 115,
     "metadata": {},
     "output_type": "execute_result"
    }
   ],
   "source": [
    "# check the contours    \n",
    "test_image = image.copy()\n",
    "cv2.drawContours(test_image, cnts, -1, (0, 0, 255), 5)\n",
    "\n",
    "# display original image with contours\n",
    "cv2.imshow(\"output\", test_image)\n",
    "cv2.waitKey(0)\n",
    "\n",
    "# display original image with selected contour\n",
    "test_image = image.copy()\n",
    "cv2.drawContours(test_image, [box], -1, (0,255,0), 3)\n",
    "cv2.imshow(\"checker again\",test_image)\n",
    "cv2.waitKey(0)"
   ]
  },
  {
   "cell_type": "markdown",
   "metadata": {},
   "source": [
    "**psm: page segmentation modes:**\n",
    "*  0    Orientation and script detection (OSD) only.\n",
    "*  1    Automatic page segmentation with OSD.\n",
    "*  2    Automatic page segmentation, but no OSD, or OCR.\n",
    "*  3    Fully automatic page segmentation, but no OSD. (Default)\n",
    "*  4    Assume a single column of text of variable sizes.\n",
    "*  5    Assume a single uniform block of vertically aligned text.\n",
    "*  6    Assume a single uniform block of text.\n",
    "*  7    Treat the image as a single text line.\n",
    "*  8    Treat the image as a single word.\n",
    "*  9    Treat the image as a single word in a circle.\n",
    "* 10    Treat the image as a single character.\n",
    "* 11    Sparse text. Find as much text as possible in no particular order.\n",
    "* 12    Sparse text with OSD.\n",
    "* 13    Raw line. Treat the image as a single text line, bypassing hacks that are Tesseract-specific.\n"
   ]
  },
  {
   "cell_type": "code",
   "execution_count": 116,
   "metadata": {},
   "outputs": [
    {
     "name": "stdout",
     "output_type": "stream",
     "text": [
      "Text in image: 15-LK-10898\n"
     ]
    },
    {
     "data": {
      "text/plain": [
       "-1"
      ]
     },
     "execution_count": 116,
     "metadata": {},
     "output_type": "execute_result"
    }
   ],
   "source": [
    "# 6: Masking the part other than the number plate\n",
    "# create black image as the size of image\n",
    "mask = np.zeros(thresh.shape, np.uint8)\n",
    "# create white mask in the selected contour\n",
    "mask = cv2.drawContours(mask, [box], 0, 255, -1)\n",
    "new_image = cv2.bitwise_and(thresh, thresh, mask=mask)\n",
    "\n",
    "# Configuration for tesseract        \n",
    "config = ('-l eng --oem 3 --psm 3')\n",
    "\n",
    "# 6: Run tesseract OCR on image\n",
    "text = pytesseract.image_to_string(new_image, config=config)\n",
    "print(\"Text in image:\", text)\n",
    "\n",
    "cv2.imshow(\"Masked image\", new_image)\n",
    "cv2.waitKey(0)\n"
   ]
  },
  {
   "cell_type": "code",
   "execution_count": null,
   "metadata": {},
   "outputs": [],
   "source": []
  }
 ],
 "metadata": {
  "kernelspec": {
   "display_name": "Python 3",
   "language": "python",
   "name": "python3"
  },
  "language_info": {
   "codemirror_mode": {
    "name": "ipython",
    "version": 3
   },
   "file_extension": ".py",
   "mimetype": "text/x-python",
   "name": "python",
   "nbconvert_exporter": "python",
   "pygments_lexer": "ipython3",
   "version": "3.6.10"
  }
 },
 "nbformat": 4,
 "nbformat_minor": 4
}
